{
  "cells": [
    {
      "cell_type": "markdown",
      "metadata": {
        "id": "gVnIb5-JFCVb"
      },
      "source": [
        "Please complete the specified sections. You may modify the code as needed; this is intended only as a guide or template."
      ]
    },
    {
      "cell_type": "markdown",
      "metadata": {
        "id": "tLQCXtIcAXjM"
      },
      "source": [
        "# Modules\n",
        "run this block to download pysat module"
      ]
    },
    {
      "cell_type": "code",
      "execution_count": 90,
      "metadata": {
        "id": "lpsPtJ8_hoyF",
        "colab": {
          "base_uri": "https://localhost:8080/"
        },
        "outputId": "6654bc02-a519-4613-e4b7-4cd6c0e8d755"
      },
      "outputs": [
        {
          "output_type": "stream",
          "name": "stdout",
          "text": [
            "Requirement already satisfied: python-sat in /usr/local/lib/python3.10/dist-packages (1.8.dev13)\n",
            "Requirement already satisfied: six in /usr/local/lib/python3.10/dist-packages (from python-sat) (1.16.0)\n"
          ]
        }
      ],
      "source": [
        "!pip install python-sat"
      ]
    },
    {
      "cell_type": "code",
      "execution_count": 91,
      "metadata": {
        "id": "AZuEiwHTAUjR"
      },
      "outputs": [],
      "source": [
        "from pysat.formula import CNF\n",
        "from pysat.solvers import Solver\n",
        "import copy"
      ]
    },
    {
      "cell_type": "markdown",
      "metadata": {
        "id": "c4UnrkwvAyyP"
      },
      "source": [
        "# Atoms"
      ]
    },
    {
      "cell_type": "code",
      "execution_count": 92,
      "metadata": {
        "id": "O4lE0za4A0-A"
      },
      "outputs": [],
      "source": [
        "#global Dictionaries for encoded atoms\n",
        "atoms_dict = {} # (kind, i, j, t) => ID\n",
        "reverse_atoms_dict ={} # ID => (kind, i, j, t)\n",
        "lastUsedID = 0"
      ]
    },
    {
      "cell_type": "markdown",
      "metadata": {
        "id": "bRDGfnZ0iBGZ"
      },
      "source": [
        "Guide:\n",
        "\n",
        " 1. Use binary (0, 1) for the \"kind\" input to indicate a selection between a player or a box:\n",
        "* Use 1 to represent a player.\n",
        "* Use 0 to represent a box.\n",
        "\n",
        "2. Use the encodeAtom function to generate a positive number (code) for atoms. For example, to represent the existence of a player at location (i, j) on board \"t\", the encodeAtom call will be encodeAtom(1, i, j, t).\n"
      ]
    },
    {
      "cell_type": "code",
      "execution_count": 93,
      "metadata": {
        "id": "QzOEt9E9Btv-"
      },
      "outputs": [],
      "source": [
        "#Encode variables to a positive number\n",
        "def encodeAtom(kind, i, j, t):\n",
        "        global lastUsedID, atoms_dict, reverse_atoms_dict\n",
        "\n",
        "        if not ((kind, i, j, t) in atoms_dict):\n",
        "          lastUsedID += 1\n",
        "          atoms_dict[(kind, i, j, t)] =  lastUsedID\n",
        "          reverse_atoms_dict[lastUsedID] = (kind, i, j, t)\n",
        "        return atoms_dict[(kind, i, j, t)]"
      ]
    },
    {
      "cell_type": "markdown",
      "metadata": {
        "id": "MUuPHXj6iUaH"
      },
      "source": [
        "At last you can decode ID to Atom properties which is a tuple of the form (kind, i, j, t)."
      ]
    },
    {
      "cell_type": "code",
      "execution_count": 94,
      "metadata": {
        "id": "9vgDR7yQAWl1"
      },
      "outputs": [],
      "source": [
        "#Decode Integers to Atoms\n",
        "def decodeAtom(ID):\n",
        "    global reverse_atoms_dict\n",
        "    if abs(ID) in reverse_atoms_dict:\n",
        "        return reverse_atoms_dict[abs(ID)]\n",
        "    return -1"
      ]
    },
    {
      "cell_type": "markdown",
      "metadata": {
        "id": "oZfhSm79B1Gt"
      },
      "source": [
        "# Coditions"
      ]
    },
    {
      "cell_type": "markdown",
      "metadata": {
        "id": "FCds5zffB-Gf"
      },
      "source": [
        "## 1. INITIAL BOARD\n",
        "Generate clauses for the initial board by setting atoms based on the initial board configuration.\n",
        "\n",
        "Adding Clause Guide:\n",
        "- Use clauses.append([p1, p2, ..., p(n)]) to add a clause in CNF format, representing (p1 OR p2 OR ... OR p(n)).\n",
        "- Each atom is represented by a positive integer (which is handled by encodeAtom/decodeAtom functions), and the negation of an atom is represented by the negative of that integer. Therefore, -1*p1 is equivalent to NOT(p1).\n",
        "\n",
        "Example:\n",
        "To set the position of a player at (3, 2) on board 0 and unset the box position at the same location, use the following code:\n",
        "`clauses.append([encodeAtom(1, 3, 2, 0), -encodeAtom(0, 3, 2, 0)])`\n"
      ]
    },
    {
      "cell_type": "code",
      "execution_count": 95,
      "metadata": {
        "id": "J_SqNI0KCZJI"
      },
      "outputs": [],
      "source": [
        "def create_initial_clauses(clauses, StartBoard):\n",
        "\n",
        "    height = len(StartBoard)\n",
        "    width = len(StartBoard[0])\n",
        "\n",
        "    for i in range(height):\n",
        "        for j in range(width):\n",
        "            if StartBoard[i][j] == 1 or StartBoard[i][j] == 0:\n",
        "              clauses.append ([-encodeAtom(1, i, j, 0)])\n",
        "              clauses.append ([-encodeAtom(0, i, j, 0)])\n",
        "\n",
        "            elif StartBoard[i][j] == 'p':\n",
        "              clauses.append ([encodeAtom(1, i, j, 0)])\n",
        "              clauses.append ([-encodeAtom(0, i, j, 0)])\n",
        "\n",
        "            elif StartBoard[i][j] == 'b':\n",
        "              clauses.append ([-encodeAtom(1, i, j, 0)])\n",
        "              clauses.append ([encodeAtom(0, i, j, 0)])\n",
        "\n",
        "    return clauses"
      ]
    },
    {
      "cell_type": "markdown",
      "metadata": {
        "id": "2DLAzfclCqbs"
      },
      "source": [
        "## 2. Final Board"
      ]
    },
    {
      "cell_type": "markdown",
      "metadata": {
        "id": "6HQQRqZ9DY1S"
      },
      "source": [
        "\n",
        "For the first function, you must add a clause that satisfies our final board condition. For the second function, remove the added condition in case of unsatisfiability in the assumed steps."
      ]
    },
    {
      "cell_type": "code",
      "execution_count": 96,
      "metadata": {
        "id": "WVWWy1yxDYqa"
      },
      "outputs": [],
      "source": [
        "def create_Final_clause(clauses, goal_position, max_steps):\n",
        "  clauses.append([encodeAtom(0, goal_position[0] - 1, goal_position[1] - 1, max_steps)])  # goal position in one-based\n",
        "  return clauses\n",
        "\n",
        "def Delete_Final_clause(clauses, goal_position, max_steps):\n",
        "  clauses.clauses.remove([encodeAtom(0, goal_position[0] - 1, goal_position[1] - 1, max_steps)])\n",
        "  return clauses"
      ]
    },
    {
      "cell_type": "markdown",
      "metadata": {
        "id": "AacJhahiDaF4"
      },
      "source": [
        "## 3. Transition"
      ]
    },
    {
      "cell_type": "code",
      "execution_count": 97,
      "metadata": {
        "id": "hy4HGX5NCplU"
      },
      "outputs": [],
      "source": [
        "def create_transition_clauses(clauses, StartBoard, step_number):\n",
        "    height = len(StartBoard)\n",
        "    width = len(StartBoard[0])\n",
        "\n",
        "    for i in range (height):\n",
        "        for j in range (width):\n",
        "            # condition 2.1 --> it cant have both player and box (~(p and b))\n",
        "            # it can cover NO BOX AND NO PLAYER\n",
        "            clauses.append ([-encodeAtom(1, i, j, step_number), -encodeAtom(0, i, j, step_number)])\n",
        "\n",
        "\n",
        "            if (StartBoard[i][j] == 1):\n",
        "              clauses.append ([-encodeAtom(1, i, j, step_number)])\n",
        "              clauses.append ([-encodeAtom(0, i, j, step_number)])\n",
        "              continue  # if it is a wall, no other conditions are assigned\n",
        "\n",
        "            # condition 2.3 -> at least one of the adj should have contained player in the prev move\n",
        "            clauses_for_cell = []\n",
        "            clauses_for_cell.append(-encodeAtom(1, i, j, step_number))\n",
        "            if i - 1 >= 0:\n",
        "              clauses_for_cell.append(encodeAtom(1, i - 1, j, step_number - 1))\n",
        "            if j - 1 >= 0:\n",
        "              clauses_for_cell.append(encodeAtom(1, i, j - 1, step_number - 1))\n",
        "            if i + 1 < height:\n",
        "              clauses_for_cell.append(encodeAtom(1, i + 1, j, step_number - 1))\n",
        "            if j + 1 < width:\n",
        "              clauses_for_cell.append(encodeAtom(1, i, j + 1, step_number - 1))\n",
        "            clauses.append(clauses_for_cell)\n",
        "\n",
        "            # to have exactly one player, we add the prev condtion with the difference of step_number\n",
        "            # then we add a condition to have exact one player in each cell\n",
        "            clauses_for_cell = []\n",
        "            clauses_for_cell.append(-encodeAtom(1, i, j, step_number - 1))\n",
        "            if i - 1 >= 0:\n",
        "              clauses_for_cell.append(encodeAtom(1, i - 1, j, step_number))\n",
        "            if j - 1 >= 0:\n",
        "              clauses_for_cell.append(encodeAtom(1, i, j - 1, step_number))\n",
        "            if i + 1 < height:\n",
        "              clauses_for_cell.append(encodeAtom(1, i + 1, j, step_number))\n",
        "            if j + 1 < width:\n",
        "              clauses_for_cell.append(encodeAtom(1, i, j + 1, step_number))\n",
        "            clauses.append(clauses_for_cell)\n",
        "\n",
        "            # exactly one player in each cell ---> ~(P1 AND P2)\n",
        "            for sec_i in range(height):\n",
        "              for sec_j in range(width):\n",
        "                if sec_i == i and sec_j == j:\n",
        "                  continue\n",
        "                clauses_for_cell = [-encodeAtom(1, i, j, step_number), -encodeAtom(1, sec_i, sec_j, step_number)]\n",
        "                clauses.append(clauses_for_cell)\n",
        "                clauses_for_cell = [-encodeAtom(0, i, j, step_number), -encodeAtom(0, sec_i, sec_j, step_number)]\n",
        "                clauses.append(clauses_for_cell)\n",
        "\n",
        "\n",
        "            # condition 2.4 --> if P(0, i, j, step_number) -> (P(0, i + change, j + change, step - 1) and P(1, i + change2, j + change2, step - 1) and P(1, i + change, j + change, step))\n",
        "            # cover boxes. it was either in the last position, or it was after a player, and player has moved to the i,j\n",
        "            direction = []\n",
        "            if i - 1 >= 0 and i - 2 >= 0:\n",
        "              this_direction = []\n",
        "              this_direction.append(encodeAtom(1, i - 1, j, step_number))\n",
        "              this_direction.append(encodeAtom(1, i - 2, j, step_number - 1))\n",
        "              this_direction.append(encodeAtom(0, i - 1, j, step_number - 1))\n",
        "              direction.append(this_direction)\n",
        "\n",
        "            if j - 1 >= 0 and j - 2 >= 0:\n",
        "              this_direction = []\n",
        "              this_direction.append(encodeAtom(1, i, j - 1, step_number))\n",
        "              this_direction.append(encodeAtom(1, i, j - 2, step_number - 1))\n",
        "              this_direction.append(encodeAtom(0, i, j - 1, step_number - 1))\n",
        "              direction.append(this_direction)\n",
        "\n",
        "            if i + 1 < height and i + 2 < height:\n",
        "              this_direction = []\n",
        "              this_direction.append(encodeAtom(1, i + 1, j, step_number))\n",
        "              this_direction.append(encodeAtom(1, i + 2, j, step_number - 1))\n",
        "              this_direction.append(encodeAtom(0, i + 1, j, step_number - 1))\n",
        "              direction.append(this_direction)\n",
        "\n",
        "            if j + 1 < width and j + 2 < width:\n",
        "              this_direction = []\n",
        "              this_direction.append(encodeAtom(1, i, j + 1, step_number))\n",
        "              this_direction.append(encodeAtom(1, i, j + 2, step_number - 1))\n",
        "              this_direction.append(encodeAtom(0, i, j + 1, step_number - 1))\n",
        "              direction.append(this_direction)\n",
        "\n",
        "            if (len(direction) == 4):\n",
        "              for one in direction[0]:\n",
        "                for two in direction[1]:\n",
        "                  for thr in direction[2]:\n",
        "                    for four in direction[3]:\n",
        "                      atom_condition = []\n",
        "                      atom_condition.append(encodeAtom(0, i, j, step_number - 1))\n",
        "                      atom_condition.append(-encodeAtom(0, i, j, step_number))\n",
        "                      atom_condition.append(one)\n",
        "                      atom_condition.append(two)\n",
        "                      atom_condition.append(thr)\n",
        "                      atom_condition.append(four)\n",
        "                      clauses.append(atom_condition)\n",
        "\n",
        "            elif (len(direction) == 3):\n",
        "               for one in direction[0]:\n",
        "                for two in direction[1]:\n",
        "                  for thr in direction[2]:\n",
        "                      atom_condition = []\n",
        "                      atom_condition.append(encodeAtom(0, i, j, step_number - 1))\n",
        "                      atom_condition.append(-encodeAtom(0, i, j, step_number))\n",
        "                      atom_condition.append(one)\n",
        "                      atom_condition.append(two)\n",
        "                      atom_condition.append(thr)\n",
        "                      clauses.append(atom_condition)\n",
        "\n",
        "            elif (len(direction) == 2):\n",
        "               for one in direction[0]:\n",
        "                for two in direction[1]:\n",
        "                      atom_condition = []\n",
        "                      atom_condition.append(encodeAtom(0, i, j, step_number - 1))\n",
        "                      atom_condition.append(-encodeAtom(0, i, j, step_number))\n",
        "                      atom_condition.append(one)\n",
        "                      atom_condition.append(two)\n",
        "                      clauses.append(atom_condition)\n",
        "\n",
        "            elif (len(direction) == 1):\n",
        "               for one in direction[0]:\n",
        "                      atom_condition.append(encodeAtom(0, i, j, step_number - 1))\n",
        "                      atom_condition.append(-encodeAtom(0, i, j, step_number))\n",
        "                      atom_condition.append(one)\n",
        "                      clauses.append(atom_condition)\n",
        "\n",
        "\n",
        "            # !!!! MY FAILED ATTEMPT TO WRITE THE EXACT THING WRITTEN IN GUIDE:\n",
        "\n",
        "            # condition 2.2 --> if P(1, i, j, step - 1) -> exactly one\n",
        "            # the normal form is m -> (p1 and ~p2 and ~p3 and ~p4) or (~p1 and p2 and ~p3 and ~p4)\n",
        "            #                         (~p1 and ~p2 and p3 and ~p4) or (~p1 and ~p2 and ~p3 and p4)\n",
        "            # so as CNF it is all other states in truth table with AND between\n",
        "            # if exactly one of them is true (it means 1 in exactly one of them -> sum of them is 1) shouldn't be added\n",
        "\n",
        "            # direction = []\n",
        "            # for change in range (0, 4):\n",
        "            #   this_direction = []\n",
        "            #   this_direction.append(-encodeAtom(1, i + dx[change], j + dy[change], step_number))\n",
        "            #   this_direction.append(encodeAtom(1, i + dx[change], j + dy[change], step_number))\n",
        "            #   direction.append(this_direction)\n",
        "\n",
        "            # if i - 1 >= 0:\n",
        "            #   this_direction = []\n",
        "            #   this_direction.append(-encodeAtom(1, i - 1, j, step_number))\n",
        "            #   this_direction.append(encodeAtom(1, i - 1, j, step_number))\n",
        "            #   direction.append(this_direction)\n",
        "\n",
        "            # if j - 1 >= 0:\n",
        "            #   this_direction = []\n",
        "            #   this_direction.append(-encodeAtom(1, i, j - 1, step_number))\n",
        "            #   this_direction.append(encodeAtom(1, i, j - 1, step_number))\n",
        "            #   direction.append(this_direction)\n",
        "\n",
        "            # if i + 1 < height:\n",
        "            #   this_direction = []\n",
        "            #   this_direction.append(-encodeAtom(1, i + 1, j, step_number))\n",
        "            #   this_direction.append(encodeAtom(1, i + 1, j, step_number))\n",
        "            #   direction.append(this_direction)\n",
        "\n",
        "            # if j + 1 < width:\n",
        "            #   this_direction = []\n",
        "            #   this_direction.append(-encodeAtom(1, i, j + 1, step_number))\n",
        "            #   this_direction.append(encodeAtom(1, i, j + 1, step_number))\n",
        "            #   direction.append(this_direction)\n",
        "\n",
        "            # if len (direction) == 4:\n",
        "            #   for one in range(0, 2):\n",
        "            #     for two in range (0, 2):\n",
        "            #       for thr in range (0, 2):\n",
        "            #         for four in range (0, 2):\n",
        "            #           if one + two + thr + four == 3:\n",
        "            #             continue\n",
        "            #           atom_condition = []\n",
        "            #           atom_condition.append (-encodeAtom(1, i, j, step_number - 1))\n",
        "            #           atom_condition.append(direction[0][one])\n",
        "            #           atom_condition.append(direction[1][two])\n",
        "            #           atom_condition.append(direction[2][thr])\n",
        "            #           atom_condition.append(direction[3][four])\n",
        "            #           clauses.append(atom_condition)\n",
        "\n",
        "            # elif len(direction) == 3:\n",
        "            #   for one in range(0, 2):\n",
        "            #     for two in range (0, 2):\n",
        "            #       for thr in range (0, 2):\n",
        "            #           if one + two + thr== 1:\n",
        "            #             continue\n",
        "            #           atom_condition = []\n",
        "            #           atom_condition.append (-encodeAtom(1, i, j, step_number - 1))\n",
        "            #           atom_condition.append(direction[0][one])\n",
        "            #           atom_condition.append(direction[1][two])\n",
        "            #           atom_condition.append(direction[2][thr])\n",
        "            #           clauses.append(atom_condition)\n",
        "\n",
        "            # elif len (direction) == 2:\n",
        "            #   for one in range(0, 2):\n",
        "            #     for two in range (0, 2):\n",
        "            #           if one + two== 1:\n",
        "            #             continue\n",
        "            #           atom_condition = []\n",
        "            #           atom_condition.append (-encodeAtom(1, i, j, step_number - 1))\n",
        "            #           atom_condition.append(direction[0][one])\n",
        "            #           atom_condition.append(direction[1][two])\n",
        "            #           clauses.append(atom_condition)\n",
        "\n",
        "            # elif len (direction) == 1:\n",
        "            #   for one in range(0, 2):\n",
        "            #           if one == 1:\n",
        "            #             continue\n",
        "            #           atom_condition = []\n",
        "            #           atom_condition.append (-encodeAtom(1, i, j, step_number - 1))\n",
        "            #           atom_condition.append(direction[0][one])\n",
        "            #           clauses.append(atom_condition)\n",
        "\n",
        "\n",
        "\n",
        "            # !!! BUG ALERT: THE CHECK_WALL FUNCTION WENT WRONG, SO I WAS SUPPOSED TO WRITE ALL THE STATES: !!!\n",
        "\n",
        "            # # condition 2.3 -->  if P(1, i, j, step_number) -> P(1, i + change, j + change, step_number - 1)\n",
        "            # # if it is  m -> (p1 or p2 or p3 or p4)\n",
        "            # # as a CNF it is:   (~m or p1 or p2 or p3 or p4)\n",
        "            # # Pi represents player in one of i directions 1 <= i <= 4\n",
        "\n",
        "            # # for one in range(0, 2):\n",
        "            # #   for two in range (0, 2):\n",
        "            # #     for thr in range (0, 2):\n",
        "            # #       for four in range (0, 2):\n",
        "            # #         if (one + two + thr + four == 1):\n",
        "            # #           continue\n",
        "            # #         atom_condition = []\n",
        "            # #         atom_condition.append (-encodeAtom(1, i, j, step_number - 1))\n",
        "\n",
        "            # #         if check_wall(StartBoard, decodeAtom(direction[0][one]), height, width):\n",
        "            # #           atom_condition.append(direction[0][one])\n",
        "            # #         if check_wall(StartBoard, decodeAtom(direction[1][two]), height, width):\n",
        "            # #           atom_condition.append(direction[1][two])\n",
        "            # #         if check_wall(StartBoard, decodeAtom(direction[2][thr]), height, width):\n",
        "            # #           atom_condition.append(direction[2][thr])\n",
        "            # #         if check_wall(StartBoard, decodeAtom(direction[3][four]), height, width):\n",
        "            # #           atom_condition.append(direction[3][four])\n",
        "\n",
        "            # #         clauses.append(atom_condition)\n",
        "\n",
        "    return clauses"
      ]
    },
    {
      "cell_type": "markdown",
      "metadata": {
        "id": "SX0uuE5FEgyM"
      },
      "source": [
        "# Decode Solution"
      ]
    },
    {
      "cell_type": "code",
      "execution_count": 98,
      "metadata": {
        "id": "sVfylZ8YEgUC"
      },
      "outputs": [],
      "source": [
        "def print_solution(model, StartBoard, number_of_steps):\n",
        "\n",
        "    print('\\n## Solution:')\n",
        "    for t in range(number_of_steps + 1):\n",
        "        print(\"\\n STEP \" + str(t) + ' Board:')\n",
        "\n",
        "        # deepCopy will copy Board in 2D array (pass by value)\n",
        "        A = copy.deepcopy(StartBoard)\n",
        "        height = len(StartBoard)\n",
        "        width = len(StartBoard[0])\n",
        "        for i in range (height):\n",
        "          for j in range (width):\n",
        "            if A[i][j] != 1:\n",
        "              A[i][j] = 0  # initialize\n",
        "\n",
        "        for atom in model:\n",
        "          decoded_atom = decodeAtom(atom) # it returns a tuple of (kind, i, j ,t)\n",
        "          if decoded_atom[3] == t: # it means it is related to this step\n",
        "            if decoded_atom[0] == 1: # it means that player was not here\n",
        "                  if atom > 0:\n",
        "                      A[decoded_atom[1]][decoded_atom[2]] = 'p'\n",
        "            else:\n",
        "                if atom > 0:\n",
        "                  A[decoded_atom[1]][decoded_atom[2]] = 'b'\n",
        "\n",
        "        for a in A:\n",
        "          print (a)\n",
        "\n",
        "    print('\\n## END of solution')\n",
        "    return True"
      ]
    },
    {
      "cell_type": "markdown",
      "metadata": {
        "id": "YPmjaivfEmLs"
      },
      "source": [
        "# Solver function"
      ]
    },
    {
      "cell_type": "code",
      "execution_count": 99,
      "metadata": {
        "id": "MwznUsihEsOe"
      },
      "outputs": [],
      "source": [
        "\n",
        "def solve_sokoban(StartBoard, goal_position, max_steps):\n",
        "\n",
        "    clauses = CNF()\n",
        "    clauses = create_initial_clauses(clauses, StartBoard)\n",
        "\n",
        "    number_of_steps = 0\n",
        "\n",
        "    for i in range (1, max_steps + 1):   # max_step + 1 --> so it will check max-step, too\n",
        "      create_transition_clauses(clauses, StartBoard, i)\n",
        "      create_Final_clause (clauses, goal_position, i)\n",
        "      solver = Solver(bootstrap_with = clauses)\n",
        "      if solver.solve():\n",
        "        model = solver.get_model()\n",
        "        print_solution(model, StartBoard, i)\n",
        "        solver.delete()\n",
        "        Delete_Final_clause(clauses, goal_position, i)\n",
        "        return\n",
        "      else:\n",
        "        Delete_Final_clause(clauses, goal_position, i)\n",
        "\n",
        "    return None"
      ]
    },
    {
      "cell_type": "markdown",
      "metadata": {
        "id": "nCUBfLgSE37a"
      },
      "source": [
        "#Game Creator\n",
        "creat games here and run it."
      ]
    },
    {
      "cell_type": "code",
      "execution_count": 100,
      "metadata": {
        "id": "OQhxwHoOhpv4",
        "colab": {
          "base_uri": "https://localhost:8080/"
        },
        "outputId": "fa372c4b-52e6-4aca-ecdc-4897b318bc18"
      },
      "outputs": [
        {
          "output_type": "stream",
          "name": "stdout",
          "text": [
            "\n",
            "## Solution:\n",
            "\n",
            " STEP 0 Board:\n",
            "[0, 0, 0, 0, 0]\n",
            "['p', 'b', 1, 0, 0]\n",
            "[0, 0, 0, 0, 0]\n",
            "[0, 0, 1, 0, 0]\n",
            "[0, 0, 1, 0, 0]\n",
            "\n",
            " STEP 1 Board:\n",
            "['p', 0, 0, 0, 0]\n",
            "[0, 'b', 1, 0, 0]\n",
            "[0, 0, 0, 0, 0]\n",
            "[0, 0, 1, 0, 0]\n",
            "[0, 0, 1, 0, 0]\n",
            "\n",
            " STEP 2 Board:\n",
            "[0, 'p', 0, 0, 0]\n",
            "[0, 'b', 1, 0, 0]\n",
            "[0, 0, 0, 0, 0]\n",
            "[0, 0, 1, 0, 0]\n",
            "[0, 0, 1, 0, 0]\n",
            "\n",
            " STEP 3 Board:\n",
            "[0, 0, 0, 0, 0]\n",
            "[0, 'p', 1, 0, 0]\n",
            "[0, 'b', 0, 0, 0]\n",
            "[0, 0, 1, 0, 0]\n",
            "[0, 0, 1, 0, 0]\n",
            "\n",
            " STEP 4 Board:\n",
            "[0, 0, 0, 0, 0]\n",
            "['p', 0, 1, 0, 0]\n",
            "[0, 'b', 0, 0, 0]\n",
            "[0, 0, 1, 0, 0]\n",
            "[0, 0, 1, 0, 0]\n",
            "\n",
            " STEP 5 Board:\n",
            "[0, 0, 0, 0, 0]\n",
            "[0, 0, 1, 0, 0]\n",
            "['p', 'b', 0, 0, 0]\n",
            "[0, 0, 1, 0, 0]\n",
            "[0, 0, 1, 0, 0]\n",
            "\n",
            " STEP 6 Board:\n",
            "[0, 0, 0, 0, 0]\n",
            "[0, 0, 1, 0, 0]\n",
            "[0, 'p', 'b', 0, 0]\n",
            "[0, 0, 1, 0, 0]\n",
            "[0, 0, 1, 0, 0]\n",
            "\n",
            " STEP 7 Board:\n",
            "[0, 0, 0, 0, 0]\n",
            "[0, 0, 1, 0, 0]\n",
            "[0, 0, 'p', 'b', 0]\n",
            "[0, 0, 1, 0, 0]\n",
            "[0, 0, 1, 0, 0]\n",
            "\n",
            "## END of solution\n"
          ]
        }
      ],
      "source": [
        "if __name__ == '__main__':\n",
        "\n",
        "    goal_position = (3, 4)\n",
        "    StartBoard = [\n",
        "        [0, 0, 0, 0, 0],\n",
        "        ['p', 'b', 1, 0, 0],\n",
        "        [0, 0, 0, 0, 0],\n",
        "        [0, 0, 1, 0, 0],\n",
        "        [0, 0, 1, 0, 0]\n",
        "    ]\n",
        "\n",
        "    max_steps = 11\n",
        "\n",
        "    solve_sokoban( StartBoard, goal_position, max_steps)"
      ]
    }
  ],
  "metadata": {
    "colab": {
      "provenance": []
    },
    "kernelspec": {
      "display_name": "Python 3",
      "name": "python3"
    },
    "language_info": {
      "codemirror_mode": {
        "name": "ipython",
        "version": 3
      },
      "file_extension": ".py",
      "mimetype": "text/x-python",
      "name": "python",
      "nbconvert_exporter": "python",
      "pygments_lexer": "ipython3",
      "version": "3.12.2"
    }
  },
  "nbformat": 4,
  "nbformat_minor": 0
}